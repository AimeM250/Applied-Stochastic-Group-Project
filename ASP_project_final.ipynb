{
 "cells": [
  {
   "cell_type": "code",
   "execution_count": 1,
   "id": "8edd10f8",
   "metadata": {},
   "outputs": [
    {
     "name": "stderr",
     "output_type": "stream",
     "text": [
      "Using TensorFlow backend.\n"
     ]
    }
   ],
   "source": [
    "import warnings\n",
    "import time\n",
    "import sys\n",
    "import numpy as np\n",
    "import matplotlib.pyplot as plt\n",
    "from hmmlearn import hmm\n",
    "import pandas as pd\n",
    "import pandas as PD\n",
    "import numpy as np\n",
    "%matplotlib inline\n",
    "import matplotlib. pyplot as plt\n",
    "import matplotlib\n",
    "from tensorflow import keras\n",
    "from sklearn.model_selection import train_test_split\n",
    "from sklearn.linear_model import LinearRegression\n",
    "from sklearn.preprocessing import MinMaxScaler\n",
    "from keras.layers import LSTM, Dense, Dropout\n",
    "from sklearn.model_selection import TimeSeriesSplit\n",
    "from sklearn.metrics import mean_squared_error, r2_score\n",
    "import matplotlib. dates as mandates\n",
    "from sklearn.preprocessing import MinMaxScaler\n",
    "from sklearn import linear_model\n",
    "from tensorflow.keras.models import Sequential\n",
    "from tensorflow.keras.layers import Dense\n",
    "import tensorflow.keras.backend as K\n",
    "from tensorflow.keras.callbacks import EarlyStopping\n",
    "from tensorflow.keras.optimizers import Adam\n",
    "from tensorflow.keras.models import load_model\n",
    "from tensorflow.keras.layers import LSTM\n",
    "from keras.utils.vis_utils import plot_model\n",
    "from tensorflow.keras import Sequential\n",
    "from tensorflow.keras.layers import Conv2D, Flatten, Dense"
   ]
  },
  {
   "cell_type": "markdown",
   "id": "a72fcba7",
   "metadata": {},
   "source": [
    "# Loading our dataset"
   ]
  },
  {
   "cell_type": "code",
   "execution_count": 2,
   "id": "4f9a0b85",
   "metadata": {},
   "outputs": [
    {
     "data": {
      "text/html": [
       "<div>\n",
       "<style scoped>\n",
       "    .dataframe tbody tr th:only-of-type {\n",
       "        vertical-align: middle;\n",
       "    }\n",
       "\n",
       "    .dataframe tbody tr th {\n",
       "        vertical-align: top;\n",
       "    }\n",
       "\n",
       "    .dataframe thead th {\n",
       "        text-align: right;\n",
       "    }\n",
       "</style>\n",
       "<table border=\"1\" class=\"dataframe\">\n",
       "  <thead>\n",
       "    <tr style=\"text-align: right;\">\n",
       "      <th></th>\n",
       "      <th>Date</th>\n",
       "      <th>Open</th>\n",
       "      <th>High</th>\n",
       "      <th>Low</th>\n",
       "      <th>Close</th>\n",
       "      <th>Adj Close</th>\n",
       "      <th>Volume</th>\n",
       "    </tr>\n",
       "  </thead>\n",
       "  <tbody>\n",
       "    <tr>\n",
       "      <th>0</th>\n",
       "      <td>2018-01-01</td>\n",
       "      <td>14112.200195</td>\n",
       "      <td>14112.200195</td>\n",
       "      <td>13154.700195</td>\n",
       "      <td>13657.200195</td>\n",
       "      <td>13657.200195</td>\n",
       "      <td>1.029120e+10</td>\n",
       "    </tr>\n",
       "    <tr>\n",
       "      <th>1</th>\n",
       "      <td>2018-01-02</td>\n",
       "      <td>13625.000000</td>\n",
       "      <td>15444.599609</td>\n",
       "      <td>13163.599609</td>\n",
       "      <td>14982.099609</td>\n",
       "      <td>14982.099609</td>\n",
       "      <td>1.684660e+10</td>\n",
       "    </tr>\n",
       "    <tr>\n",
       "      <th>2</th>\n",
       "      <td>2018-01-03</td>\n",
       "      <td>14978.200195</td>\n",
       "      <td>15572.799805</td>\n",
       "      <td>14844.500000</td>\n",
       "      <td>15201.000000</td>\n",
       "      <td>15201.000000</td>\n",
       "      <td>1.687190e+10</td>\n",
       "    </tr>\n",
       "    <tr>\n",
       "      <th>3</th>\n",
       "      <td>2018-01-04</td>\n",
       "      <td>15270.700195</td>\n",
       "      <td>15739.700195</td>\n",
       "      <td>14522.200195</td>\n",
       "      <td>15599.200195</td>\n",
       "      <td>15599.200195</td>\n",
       "      <td>2.178320e+10</td>\n",
       "    </tr>\n",
       "    <tr>\n",
       "      <th>4</th>\n",
       "      <td>2018-01-05</td>\n",
       "      <td>15477.200195</td>\n",
       "      <td>17705.199219</td>\n",
       "      <td>15202.799805</td>\n",
       "      <td>17429.500000</td>\n",
       "      <td>17429.500000</td>\n",
       "      <td>2.384090e+10</td>\n",
       "    </tr>\n",
       "  </tbody>\n",
       "</table>\n",
       "</div>"
      ],
      "text/plain": [
       "         Date          Open          High           Low         Close  \\\n",
       "0  2018-01-01  14112.200195  14112.200195  13154.700195  13657.200195   \n",
       "1  2018-01-02  13625.000000  15444.599609  13163.599609  14982.099609   \n",
       "2  2018-01-03  14978.200195  15572.799805  14844.500000  15201.000000   \n",
       "3  2018-01-04  15270.700195  15739.700195  14522.200195  15599.200195   \n",
       "4  2018-01-05  15477.200195  17705.199219  15202.799805  17429.500000   \n",
       "\n",
       "      Adj Close        Volume  \n",
       "0  13657.200195  1.029120e+10  \n",
       "1  14982.099609  1.684660e+10  \n",
       "2  15201.000000  1.687190e+10  \n",
       "3  15599.200195  2.178320e+10  \n",
       "4  17429.500000  2.384090e+10  "
      ]
     },
     "execution_count": 2,
     "metadata": {},
     "output_type": "execute_result"
    }
   ],
   "source": [
    "data = pd.read_csv('BTC-USD.csv')\n",
    "data.head()"
   ]
  },
  {
   "cell_type": "code",
   "execution_count": 3,
   "id": "66e505d5",
   "metadata": {},
   "outputs": [],
   "source": [
    "data.dropna(inplace=True)"
   ]
  },
  {
   "cell_type": "code",
   "execution_count": 4,
   "id": "8ef5f9a2",
   "metadata": {},
   "outputs": [
    {
     "data": {
      "text/html": [
       "<div>\n",
       "<style scoped>\n",
       "    .dataframe tbody tr th:only-of-type {\n",
       "        vertical-align: middle;\n",
       "    }\n",
       "\n",
       "    .dataframe tbody tr th {\n",
       "        vertical-align: top;\n",
       "    }\n",
       "\n",
       "    .dataframe thead th {\n",
       "        text-align: right;\n",
       "    }\n",
       "</style>\n",
       "<table border=\"1\" class=\"dataframe\">\n",
       "  <thead>\n",
       "    <tr style=\"text-align: right;\">\n",
       "      <th></th>\n",
       "      <th>Date</th>\n",
       "      <th>Open</th>\n",
       "      <th>High</th>\n",
       "      <th>Low</th>\n",
       "      <th>Close</th>\n",
       "      <th>Adj Close</th>\n",
       "      <th>Volume</th>\n",
       "    </tr>\n",
       "  </thead>\n",
       "  <tbody>\n",
       "    <tr>\n",
       "      <th>0</th>\n",
       "      <td>2018-01-01</td>\n",
       "      <td>14112.200195</td>\n",
       "      <td>14112.200195</td>\n",
       "      <td>13154.700195</td>\n",
       "      <td>13657.200195</td>\n",
       "      <td>13657.200195</td>\n",
       "      <td>1.029120e+10</td>\n",
       "    </tr>\n",
       "    <tr>\n",
       "      <th>1</th>\n",
       "      <td>2018-01-02</td>\n",
       "      <td>13625.000000</td>\n",
       "      <td>15444.599609</td>\n",
       "      <td>13163.599609</td>\n",
       "      <td>14982.099609</td>\n",
       "      <td>14982.099609</td>\n",
       "      <td>1.684660e+10</td>\n",
       "    </tr>\n",
       "    <tr>\n",
       "      <th>2</th>\n",
       "      <td>2018-01-03</td>\n",
       "      <td>14978.200195</td>\n",
       "      <td>15572.799805</td>\n",
       "      <td>14844.500000</td>\n",
       "      <td>15201.000000</td>\n",
       "      <td>15201.000000</td>\n",
       "      <td>1.687190e+10</td>\n",
       "    </tr>\n",
       "    <tr>\n",
       "      <th>3</th>\n",
       "      <td>2018-01-04</td>\n",
       "      <td>15270.700195</td>\n",
       "      <td>15739.700195</td>\n",
       "      <td>14522.200195</td>\n",
       "      <td>15599.200195</td>\n",
       "      <td>15599.200195</td>\n",
       "      <td>2.178320e+10</td>\n",
       "    </tr>\n",
       "    <tr>\n",
       "      <th>4</th>\n",
       "      <td>2018-01-05</td>\n",
       "      <td>15477.200195</td>\n",
       "      <td>17705.199219</td>\n",
       "      <td>15202.799805</td>\n",
       "      <td>17429.500000</td>\n",
       "      <td>17429.500000</td>\n",
       "      <td>2.384090e+10</td>\n",
       "    </tr>\n",
       "    <tr>\n",
       "      <th>...</th>\n",
       "      <td>...</td>\n",
       "      <td>...</td>\n",
       "      <td>...</td>\n",
       "      <td>...</td>\n",
       "      <td>...</td>\n",
       "      <td>...</td>\n",
       "      <td>...</td>\n",
       "    </tr>\n",
       "    <tr>\n",
       "      <th>1399</th>\n",
       "      <td>2021-10-31</td>\n",
       "      <td>61850.488281</td>\n",
       "      <td>62406.171875</td>\n",
       "      <td>60074.328125</td>\n",
       "      <td>61318.957031</td>\n",
       "      <td>61318.957031</td>\n",
       "      <td>3.224120e+10</td>\n",
       "    </tr>\n",
       "    <tr>\n",
       "      <th>1400</th>\n",
       "      <td>2021-11-01</td>\n",
       "      <td>61320.449219</td>\n",
       "      <td>62419.003906</td>\n",
       "      <td>59695.183594</td>\n",
       "      <td>61004.406250</td>\n",
       "      <td>61004.406250</td>\n",
       "      <td>3.615057e+10</td>\n",
       "    </tr>\n",
       "    <tr>\n",
       "      <th>1401</th>\n",
       "      <td>2021-11-02</td>\n",
       "      <td>60963.253906</td>\n",
       "      <td>64242.792969</td>\n",
       "      <td>60673.054688</td>\n",
       "      <td>63226.402344</td>\n",
       "      <td>63226.402344</td>\n",
       "      <td>3.774667e+10</td>\n",
       "    </tr>\n",
       "    <tr>\n",
       "      <th>1402</th>\n",
       "      <td>2021-11-03</td>\n",
       "      <td>63254.335938</td>\n",
       "      <td>63516.937500</td>\n",
       "      <td>61184.238281</td>\n",
       "      <td>62970.046875</td>\n",
       "      <td>62970.046875</td>\n",
       "      <td>3.612473e+10</td>\n",
       "    </tr>\n",
       "    <tr>\n",
       "      <th>1403</th>\n",
       "      <td>2021-11-04</td>\n",
       "      <td>62898.691406</td>\n",
       "      <td>63088.773438</td>\n",
       "      <td>61446.257813</td>\n",
       "      <td>61636.625000</td>\n",
       "      <td>61636.625000</td>\n",
       "      <td>3.519332e+10</td>\n",
       "    </tr>\n",
       "  </tbody>\n",
       "</table>\n",
       "<p>1400 rows × 7 columns</p>\n",
       "</div>"
      ],
      "text/plain": [
       "            Date          Open          High           Low         Close  \\\n",
       "0     2018-01-01  14112.200195  14112.200195  13154.700195  13657.200195   \n",
       "1     2018-01-02  13625.000000  15444.599609  13163.599609  14982.099609   \n",
       "2     2018-01-03  14978.200195  15572.799805  14844.500000  15201.000000   \n",
       "3     2018-01-04  15270.700195  15739.700195  14522.200195  15599.200195   \n",
       "4     2018-01-05  15477.200195  17705.199219  15202.799805  17429.500000   \n",
       "...          ...           ...           ...           ...           ...   \n",
       "1399  2021-10-31  61850.488281  62406.171875  60074.328125  61318.957031   \n",
       "1400  2021-11-01  61320.449219  62419.003906  59695.183594  61004.406250   \n",
       "1401  2021-11-02  60963.253906  64242.792969  60673.054688  63226.402344   \n",
       "1402  2021-11-03  63254.335938  63516.937500  61184.238281  62970.046875   \n",
       "1403  2021-11-04  62898.691406  63088.773438  61446.257813  61636.625000   \n",
       "\n",
       "         Adj Close        Volume  \n",
       "0     13657.200195  1.029120e+10  \n",
       "1     14982.099609  1.684660e+10  \n",
       "2     15201.000000  1.687190e+10  \n",
       "3     15599.200195  2.178320e+10  \n",
       "4     17429.500000  2.384090e+10  \n",
       "...            ...           ...  \n",
       "1399  61318.957031  3.224120e+10  \n",
       "1400  61004.406250  3.615057e+10  \n",
       "1401  63226.402344  3.774667e+10  \n",
       "1402  62970.046875  3.612473e+10  \n",
       "1403  61636.625000  3.519332e+10  \n",
       "\n",
       "[1400 rows x 7 columns]"
      ]
     },
     "execution_count": 4,
     "metadata": {},
     "output_type": "execute_result"
    }
   ],
   "source": [
    "data"
   ]
  },
  {
   "cell_type": "markdown",
   "id": "f843b94a",
   "metadata": {},
   "source": [
    "# Building a baseline model that will be compared to our HMM"
   ]
  },
  {
   "cell_type": "raw",
   "id": "38b3eb37",
   "metadata": {},
   "source": [
    "In our case, we will be using the Long Short-Term Memory(LSTM) method to create a  Machine Learning Baseline model to forecast our bitcoin prices.\n",
    "Long-term memory (LSTM) is a deep learning artificial recurrent neural network (RNN) architecture."
   ]
  },
  {
   "cell_type": "code",
   "execution_count": 5,
   "id": "e7a46ff5",
   "metadata": {},
   "outputs": [
    {
     "data": {
      "text/plain": [
       "Date         False\n",
       "Open         False\n",
       "High         False\n",
       "Low          False\n",
       "Close        False\n",
       "Adj Close    False\n",
       "Volume       False\n",
       "dtype: bool"
      ]
     },
     "execution_count": 5,
     "metadata": {},
     "output_type": "execute_result"
    }
   ],
   "source": [
    "data.isnull ().any()"
   ]
  },
  {
   "cell_type": "code",
   "execution_count": 6,
   "id": "2393d3d0",
   "metadata": {},
   "outputs": [
    {
     "data": {
      "text/html": [
       "<div>\n",
       "<style scoped>\n",
       "    .dataframe tbody tr th:only-of-type {\n",
       "        vertical-align: middle;\n",
       "    }\n",
       "\n",
       "    .dataframe tbody tr th {\n",
       "        vertical-align: top;\n",
       "    }\n",
       "\n",
       "    .dataframe thead th {\n",
       "        text-align: right;\n",
       "    }\n",
       "</style>\n",
       "<table border=\"1\" class=\"dataframe\">\n",
       "  <thead>\n",
       "    <tr style=\"text-align: right;\">\n",
       "      <th></th>\n",
       "      <th>Date</th>\n",
       "      <th>Open</th>\n",
       "      <th>High</th>\n",
       "      <th>Low</th>\n",
       "      <th>Close</th>\n",
       "      <th>Adj Close</th>\n",
       "      <th>Volume</th>\n",
       "    </tr>\n",
       "  </thead>\n",
       "  <tbody>\n",
       "    <tr>\n",
       "      <th>1399</th>\n",
       "      <td>2021-10-31</td>\n",
       "      <td>61850.488281</td>\n",
       "      <td>62406.171875</td>\n",
       "      <td>60074.328125</td>\n",
       "      <td>61318.957031</td>\n",
       "      <td>61318.957031</td>\n",
       "      <td>3.224120e+10</td>\n",
       "    </tr>\n",
       "    <tr>\n",
       "      <th>1400</th>\n",
       "      <td>2021-11-01</td>\n",
       "      <td>61320.449219</td>\n",
       "      <td>62419.003906</td>\n",
       "      <td>59695.183594</td>\n",
       "      <td>61004.406250</td>\n",
       "      <td>61004.406250</td>\n",
       "      <td>3.615057e+10</td>\n",
       "    </tr>\n",
       "    <tr>\n",
       "      <th>1401</th>\n",
       "      <td>2021-11-02</td>\n",
       "      <td>60963.253906</td>\n",
       "      <td>64242.792969</td>\n",
       "      <td>60673.054688</td>\n",
       "      <td>63226.402344</td>\n",
       "      <td>63226.402344</td>\n",
       "      <td>3.774667e+10</td>\n",
       "    </tr>\n",
       "    <tr>\n",
       "      <th>1402</th>\n",
       "      <td>2021-11-03</td>\n",
       "      <td>63254.335938</td>\n",
       "      <td>63516.937500</td>\n",
       "      <td>61184.238281</td>\n",
       "      <td>62970.046875</td>\n",
       "      <td>62970.046875</td>\n",
       "      <td>3.612473e+10</td>\n",
       "    </tr>\n",
       "    <tr>\n",
       "      <th>1403</th>\n",
       "      <td>2021-11-04</td>\n",
       "      <td>62898.691406</td>\n",
       "      <td>63088.773438</td>\n",
       "      <td>61446.257813</td>\n",
       "      <td>61636.625000</td>\n",
       "      <td>61636.625000</td>\n",
       "      <td>3.519332e+10</td>\n",
       "    </tr>\n",
       "  </tbody>\n",
       "</table>\n",
       "</div>"
      ],
      "text/plain": [
       "            Date          Open          High           Low         Close  \\\n",
       "1399  2021-10-31  61850.488281  62406.171875  60074.328125  61318.957031   \n",
       "1400  2021-11-01  61320.449219  62419.003906  59695.183594  61004.406250   \n",
       "1401  2021-11-02  60963.253906  64242.792969  60673.054688  63226.402344   \n",
       "1402  2021-11-03  63254.335938  63516.937500  61184.238281  62970.046875   \n",
       "1403  2021-11-04  62898.691406  63088.773438  61446.257813  61636.625000   \n",
       "\n",
       "         Adj Close        Volume  \n",
       "1399  61318.957031  3.224120e+10  \n",
       "1400  61004.406250  3.615057e+10  \n",
       "1401  63226.402344  3.774667e+10  \n",
       "1402  62970.046875  3.612473e+10  \n",
       "1403  61636.625000  3.519332e+10  "
      ]
     },
     "execution_count": 6,
     "metadata": {},
     "output_type": "execute_result"
    }
   ],
   "source": [
    "data.tail()"
   ]
  },
  {
   "cell_type": "code",
   "execution_count": 7,
   "id": "ef8ac248",
   "metadata": {},
   "outputs": [
    {
     "data": {
      "text/plain": [
       "Index(['Date', 'Open', 'High', 'Low', 'Close', 'Adj Close', 'Volume'], dtype='object')"
      ]
     },
     "execution_count": 7,
     "metadata": {},
     "output_type": "execute_result"
    }
   ],
   "source": [
    "data.columns"
   ]
  },
  {
   "cell_type": "markdown",
   "id": "77198c3a",
   "metadata": {},
   "source": [
    "# Setting the Target Variable and Selecting the Features"
   ]
  },
  {
   "cell_type": "code",
   "execution_count": 8,
   "id": "d06a7569",
   "metadata": {},
   "outputs": [],
   "source": [
    "#Set Target Variable\n",
    "output_var = data[[\"Close\"]]\n",
    "#Selecting the Features\n",
    "features = [\"Open\", \"High\",\"Low\"]"
   ]
  },
  {
   "cell_type": "code",
   "execution_count": 9,
   "id": "16a09c07",
   "metadata": {},
   "outputs": [
    {
     "data": {
      "text/html": [
       "<div>\n",
       "<style scoped>\n",
       "    .dataframe tbody tr th:only-of-type {\n",
       "        vertical-align: middle;\n",
       "    }\n",
       "\n",
       "    .dataframe tbody tr th {\n",
       "        vertical-align: top;\n",
       "    }\n",
       "\n",
       "    .dataframe thead th {\n",
       "        text-align: right;\n",
       "    }\n",
       "</style>\n",
       "<table border=\"1\" class=\"dataframe\">\n",
       "  <thead>\n",
       "    <tr style=\"text-align: right;\">\n",
       "      <th></th>\n",
       "      <th>Open</th>\n",
       "      <th>High</th>\n",
       "      <th>Low</th>\n",
       "    </tr>\n",
       "  </thead>\n",
       "  <tbody>\n",
       "    <tr>\n",
       "      <th>0</th>\n",
       "      <td>0.173277</td>\n",
       "      <td>0.170243</td>\n",
       "      <td>0.164904</td>\n",
       "    </tr>\n",
       "    <tr>\n",
       "      <th>1</th>\n",
       "      <td>0.165515</td>\n",
       "      <td>0.191175</td>\n",
       "      <td>0.165051</td>\n",
       "    </tr>\n",
       "    <tr>\n",
       "      <th>2</th>\n",
       "      <td>0.187075</td>\n",
       "      <td>0.193189</td>\n",
       "      <td>0.192872</td>\n",
       "    </tr>\n",
       "    <tr>\n",
       "      <th>3</th>\n",
       "      <td>0.191735</td>\n",
       "      <td>0.195811</td>\n",
       "      <td>0.187537</td>\n",
       "    </tr>\n",
       "    <tr>\n",
       "      <th>4</th>\n",
       "      <td>0.195025</td>\n",
       "      <td>0.226688</td>\n",
       "      <td>0.198802</td>\n",
       "    </tr>\n",
       "  </tbody>\n",
       "</table>\n",
       "</div>"
      ],
      "text/plain": [
       "       Open      High       Low\n",
       "0  0.173277  0.170243  0.164904\n",
       "1  0.165515  0.191175  0.165051\n",
       "2  0.187075  0.193189  0.192872\n",
       "3  0.191735  0.195811  0.187537\n",
       "4  0.195025  0.226688  0.198802"
      ]
     },
     "execution_count": 9,
     "metadata": {},
     "output_type": "execute_result"
    }
   ],
   "source": [
    "scaler = MinMaxScaler()\n",
    "feature_transform = scaler.fit_transform(data[features])\n",
    "feature_transform= pd.DataFrame(columns=features, data=feature_transform, index=data.index)\n",
    "feature_transform.head()"
   ]
  },
  {
   "cell_type": "markdown",
   "id": "c9a90368",
   "metadata": {},
   "source": [
    "# Creating a Training Set and a Test Set for Stock Market Prediction"
   ]
  },
  {
   "cell_type": "code",
   "execution_count": 10,
   "id": "6058bf52",
   "metadata": {},
   "outputs": [],
   "source": [
    "#Splitting to Training set and Test set\n",
    "timesplit= TimeSeriesSplit(n_splits=10)\n",
    "for train_index, test_index in timesplit.split(feature_transform):\n",
    "        X_train, X_test = feature_transform[:len(train_index)], feature_transform[len(train_index): (len(train_index)+len(test_index))]\n",
    "        y_train, y_test = output_var[:len(train_index)].values.ravel(), output_var[len(train_index): (len(train_index)+len(test_index))].values.ravel()"
   ]
  },
  {
   "cell_type": "code",
   "execution_count": 11,
   "id": "6ab41cfe",
   "metadata": {},
   "outputs": [],
   "source": [
    "#Data preprocessing for LSTM"
   ]
  },
  {
   "cell_type": "code",
   "execution_count": 12,
   "id": "425d74fe",
   "metadata": {},
   "outputs": [],
   "source": [
    "#Process the data for LSTM\n",
    "trainX =np.array(X_train)\n",
    "testX =np.array(X_test)\n",
    "\n",
    "X_train = trainX.reshape(X_train.shape[0], 1, X_train.shape[1])\n",
    "X_test = testX.reshape(X_test.shape[0], 1, X_test.shape[1])"
   ]
  },
  {
   "cell_type": "code",
   "execution_count": 13,
   "id": "3c9cb2a6",
   "metadata": {},
   "outputs": [
    {
     "name": "stdout",
     "output_type": "stream",
     "text": [
      "Requirement already satisfied: pydot in c:\\users\\aime munezero\\anaconda3\\lib\\site-packages (1.4.2)\n",
      "Requirement already satisfied: pyparsing>=2.1.4 in c:\\users\\aime munezero\\anaconda3\\lib\\site-packages (from pydot) (2.4.7)\n",
      "Note: you may need to restart the kernel to use updated packages.\n"
     ]
    }
   ],
   "source": [
    "pip install pydot"
   ]
  },
  {
   "cell_type": "markdown",
   "id": "b5661bba",
   "metadata": {},
   "source": [
    "# Building a simple LSTM Model for Bitcoin Prediction"
   ]
  },
  {
   "cell_type": "code",
   "execution_count": 14,
   "id": "66b6d0a7",
   "metadata": {},
   "outputs": [],
   "source": [
    "#Building a simple LSTM Model\n",
    "lstm = Sequential()\n",
    "lstm.add(LSTM(64, input_shape=(1, trainX.shape[1]), activation='relu', return_sequences=True))\n",
    "lstm.add(LSTM(3, return_sequences=True))\n",
    "\n",
    "lstm.add(Dense(24))\n",
    "lstm.add(Dense(18))\n",
    "lstm.add(Dense(22))\n",
    "lstm.add(Dense(1))\n",
    "\n",
    "lstm.compile(loss='mse', optimizer='rmsprop')\n"
   ]
  },
  {
   "cell_type": "code",
   "execution_count": 15,
   "id": "d10c836e",
   "metadata": {
    "scrolled": true
   },
   "outputs": [
    {
     "name": "stdout",
     "output_type": "stream",
     "text": [
      "Epoch 1/20\n",
      "160/160 [==============================] - 6s 5ms/step - loss: 387750880.0000\n",
      "Epoch 2/20\n",
      "160/160 [==============================] - 1s 5ms/step - loss: 369940640.0000\n",
      "Epoch 3/20\n",
      "160/160 [==============================] - 1s 5ms/step - loss: 317615424.0000\n",
      "Epoch 4/20\n",
      "160/160 [==============================] - 1s 5ms/step - loss: 238275536.0000\n",
      "Epoch 5/20\n",
      "160/160 [==============================] - 1s 5ms/step - loss: 197130560.0000\n",
      "Epoch 6/20\n",
      "160/160 [==============================] - 1s 5ms/step - loss: 193550864.0000\n",
      "Epoch 7/20\n",
      "160/160 [==============================] - 1s 5ms/step - loss: 186140624.0000\n",
      "Epoch 8/20\n",
      "160/160 [==============================] - 1s 5ms/step - loss: 169417456.0000\n",
      "Epoch 9/20\n",
      "160/160 [==============================] - 1s 5ms/step - loss: 146490896.0000\n",
      "Epoch 10/20\n",
      "160/160 [==============================] - 1s 5ms/step - loss: 121316440.0000\n",
      "Epoch 11/20\n",
      "160/160 [==============================] - 1s 5ms/step - loss: 95560088.0000\n",
      "Epoch 12/20\n",
      "160/160 [==============================] - 1s 5ms/step - loss: 71677064.0000\n",
      "Epoch 13/20\n",
      "160/160 [==============================] - 1s 5ms/step - loss: 52746800.0000\n",
      "Epoch 14/20\n",
      "160/160 [==============================] - 1s 5ms/step - loss: 38496224.0000\n",
      "Epoch 15/20\n",
      "160/160 [==============================] - 1s 5ms/step - loss: 25863150.0000\n",
      "Epoch 16/20\n",
      "160/160 [==============================] - 1s 5ms/step - loss: 17751782.0000\n",
      "Epoch 17/20\n",
      "160/160 [==============================] - 1s 5ms/step - loss: 14345019.0000\n",
      "Epoch 18/20\n",
      "160/160 [==============================] - 1s 5ms/step - loss: 12559843.0000\n",
      "Epoch 19/20\n",
      "160/160 [==============================] - 1s 5ms/step - loss: 11396883.0000\n",
      "Epoch 20/20\n",
      "160/160 [==============================] - 1s 5ms/step - loss: 10427197.0000\n"
     ]
    }
   ],
   "source": [
    "history=lstm.fit(X_train, y_train, epochs=20, batch_size=8, verbose=1, shuffle=False)"
   ]
  },
  {
   "cell_type": "code",
   "execution_count": 16,
   "id": "3d8c37c4",
   "metadata": {},
   "outputs": [
    {
     "data": {
      "image/png": "[encoded data removed]",
      "text/plain": [
       "<Figure size 432x288 with 1 Axes>"
      ]
     },
     "metadata": {
      "needs_background": "light"
     },
     "output_type": "display_data"
    }
   ],
   "source": [
    "y_pred= lstm.predict(X_test)\n",
    "y_pred = y_pred.flatten()\n",
    "plt.plot(y_test, label='True Closing price Value')\n",
    "plt.plot(y_pred, label='LSTM Closing Price Value')\n",
    "plt.title('Prediction the closing price using LSTM')\n",
    "plt.xlabel(\"Time Scale\")\n",
    "plt.ylabel(\"Scaled USD\")\n",
    "plt.legend()\n",
    "plt.show()"
   ]
  },
  {
   "cell_type": "code",
   "execution_count": 17,
   "id": "e8c1013e",
   "metadata": {},
   "outputs": [
    {
     "name": "stdout",
     "output_type": "stream",
     "text": [
      "The MEan Absolute performance Error of the LSTM Model 0.0963429724658415\n"
     ]
    }
   ],
   "source": [
    "def calc_mape(predicted_data, true_data):\n",
    "    return np.divide(np.sum(np.divide(np.absolute(predicted_data - true_data), true_data), 0), true_data.shape[0])\n",
    "error = calc_mape(y_pred, y_test)\n",
    "print(\"The MEan Absolute performance Error of the LSTM Model {}\".format(error))"
   ]
  },
  {
   "cell_type": "markdown",
   "id": "03715f58",
   "metadata": {},
   "source": [
    "# Building HMM "
   ]
  },
  {
   "cell_type": "markdown",
   "id": "c360196d",
   "metadata": {},
   "source": [
    "# Extracting features to be used in the HMM "
   ]
  },
  {
   "cell_type": "code",
   "execution_count": 18,
   "id": "48fc578b",
   "metadata": {},
   "outputs": [],
   "source": [
    "dataset = data[['Close','Open','High','Low']]\n",
    "dataset = dataset.to_numpy()"
   ]
  },
  {
   "cell_type": "raw",
   "id": "ecb05848",
   "metadata": {},
   "source": [
    "The main objective of our work is to determine the efficiency of the HMMs in forecasting the prices of Bitcoin.\n",
    "\n",
    "The evaluation metric used within the work is the MAPE (Mean Absolute Percentage Error) for different features considered including: Close, Low, High and Open\n",
    "\n",
    "Key summary of the work.\n",
    "\n",
    "**We used first 100 observations for testing\n",
    "    and used rest of the observations for training the\n",
    "    model. \n",
    "\n",
    "** We used BIC as our criterion for selecting the number of optimal hidden states that should use in our model(i.e Model selection)\n",
    "\n",
    "** \n",
    "The main idea for predicting the next day’s stock price is to calculate the log-likelihood of 𝐾 previous observations and comparing it with the log-likelihood of all the previous sub-sequences of same size by shifting by one day in the direction of past data. We then identify a day in the past whose log-likelihood of its 𝐾 previous observations is the closest to the sub-sequence whose next day’s price is to be predicted.\n",
    "\n"
   ]
  },
  {
   "cell_type": "code",
   "execution_count": 19,
   "id": "2550b961",
   "metadata": {},
   "outputs": [],
   "source": [
    "\n",
    "PLOT_SHOW=True\n",
    "PLOT_TYPE = False\n",
    "\n",
    "#Observations for testing kept aside\n",
    "\n",
    "NUM_TEST = 100\n",
    "\n",
    "#latency \n",
    "\n",
    "K = 50\n",
    "NUM_ITERS=10000\n",
    "\n",
    "labels = ['Close','Open','High','Low']\n",
    "likelihood_vect = np.empty([0,1])\n",
    "\n",
    "bic_vect = np.empty([0,1])\n",
    "\n",
    "# Possible number of states in Markov Model\n",
    "STATE_SPACE = range(1,25)\n",
    "\n",
    "#Evaluation metric \n",
    "# Calculating Mean Absolute Percentage Error of predictions\n",
    "def calc_mape(predicted_data, true_data):\n",
    "    return np.divide(np.sum(np.divide(np.absolute(predicted_data - true_data), true_data), 0), true_data.shape[0])"
   ]
  },
  {
   "cell_type": "code",
   "execution_count": 20,
   "id": "35f780cd",
   "metadata": {},
   "outputs": [
    {
     "name": "stderr",
     "output_type": "stream",
     "text": [
      "C:\\Users\\Aime Munezero\\anaconda3\\lib\\site-packages\\sklearn\\cluster\\_kmeans.py:881: UserWarning: KMeans is known to have a memory leak on Windows with MKL, when there are less chunks than available threads. You can avoid it by setting the environment variable OMP_NUM_THREADS=6.\n",
      "  warnings.warn(\n"
     ]
    },
    {
     "name": "stdout",
     "output_type": "stream",
     "text": [
      "The Optimum number of states to be considered are 9\n"
     ]
    }
   ],
   "source": [
    "warnings.filterwarnings(\"ignore\", category=DeprecationWarning)\n",
    "\n",
    "predicted_stock_data = np.empty([0,dataset.shape[1]])\n",
    "likelihood_vect = np.empty([0,1])\n",
    "bic_vect = np.empty([0,1])\n",
    "for states in STATE_SPACE:\n",
    "\n",
    "#Computing the number of parameters that will be fed in the GaussianHMM Model by using the formula '𝑁^2+2N-1'\n",
    "    \n",
    "    num_params = states**2 + 2*states-1\n",
    "\n",
    "    model = hmm.GaussianHMM(n_components=states, covariance_type='full', tol=0.0001, n_iter=NUM_ITERS)\n",
    "\n",
    "\n",
    "    model.fit(dataset[NUM_TEST:,:])\n",
    "\n",
    "    likelihood_vect = np.vstack((likelihood_vect, model.score(dataset)))\n",
    "    \n",
    "#  Computing the BIC as the criteria for model selection\n",
    "\n",
    "    bic_vect = np.vstack((bic_vect, -2 * model.score(dataset) +  num_params * np.log(dataset.shape[0])))\n",
    "\n",
    "# Formula for computing the optimal number of states\n",
    "\n",
    "opt_states = np.argmin(bic_vect) + 2\n",
    "\n",
    "print('The Optimum number of states to be considered are {}'.format(opt_states))"
   ]
  },
  {
   "cell_type": "markdown",
   "id": "a01c389e",
   "metadata": {},
   "source": [
    "# Graphs showing how HMM has been used to estimate the first 100 values of the data through forecasting the close, Low, High and Open prices."
   ]
  },
  {
   "cell_type": "code",
   "execution_count": 21,
   "id": "4b1765d8",
   "metadata": {},
   "outputs": [
    {
     "name": "stdout",
     "output_type": "stream",
     "text": [
      "MAPE for close, open, high and Low bitcoin prices are as follows : [0.06897584 0.06024187 0.05179295 0.06398351] \n"
     ]
    },
    {
     "data": {
      "image/png": "[encoded data removed]",
      "text/plain": [
       "<Figure size 432x288 with 1 Axes>"
      ]
     },
     "metadata": {
      "needs_background": "light"
     },
     "output_type": "display_data"
    },
    {
     "data": {
      "image/png": "[encoded data removed]",
      "text/plain": [
       "<Figure size 432x288 with 1 Axes>"
      ]
     },
     "metadata": {
      "needs_background": "light"
     },
     "output_type": "display_data"
    },
    {
     "data": {
      "image/png": "[encoded data removed]",
      "text/plain": [
       "<Figure size 432x288 with 1 Axes>"
      ]
     },
     "metadata": {
      "needs_background": "light"
     },
     "output_type": "display_data"
    },
    {
     "data": {
      "image/png": "[encoded data removed]",
      "text/plain": [
       "<Figure size 432x288 with 1 Axes>"
      ]
     },
     "metadata": {
      "needs_background": "light"
     },
     "output_type": "display_data"
    }
   ],
   "source": [
    "mape_computed=[]\n",
    "for idx in reversed(range(NUM_TEST)):\n",
    "\n",
    "    train_dataset = dataset[idx + 1:,:]\n",
    "    test_data = dataset[idx,:]\n",
    "    num_examples = train_dataset.shape[0]\n",
    "\n",
    "    #model = hmm.GaussianHMM(n_components=opt_states, covariance_type='full', startprob_prior=dirichlet_params, transmat_prior=dirichlet_params, tol=0.0001, n_iter=NUM_ITERS, init_params='mc')\n",
    "\n",
    "\n",
    "    if idx == NUM_TEST - 1:\n",
    "        model = hmm.GaussianHMM(n_components=opt_states, covariance_type='full', tol=0.0001, n_iter=NUM_ITERS, init_params='stmc')\n",
    "    else:\n",
    "\n",
    "    # Retuning the model by using the HMM paramters from the previous iterations as the prior\n",
    "\n",
    "        model = hmm.GaussianHMM(n_components=opt_states, covariance_type='full', tol=0.0001, n_iter=NUM_ITERS, init_params='')\n",
    "        model.transmat_ = transmat_retune_prior \n",
    "        model.startprob_ = startprob_retune_prior\n",
    "        model.means_ = means_retune_prior\n",
    "        model.covars_ = covars_retune_prior\n",
    "\n",
    "    model.fit(np.flipud(train_dataset))\n",
    "\n",
    "#  transmat_ (array, shape (n_components, n_components)) – Matrix of transition probabilities between states.\n",
    "\n",
    "    transmat_retune_prior = model.transmat_\n",
    "\n",
    "#  startprob_ (array, shape (n_components, )) – Initial state occupation distribution.\n",
    "\n",
    "    startprob_retune_prior = model.startprob_\n",
    "\n",
    "    means_retune_prior = model.means_\n",
    "    covars_retune_prior = model.covars_\n",
    "\n",
    "    if model.monitor_.iter == NUM_ITERS:\n",
    "        print('Increase number of iterations')\n",
    "        sys.exit(1)\n",
    "\n",
    "    iters = 1\n",
    "    past_likelihood = []\n",
    "\n",
    "    curr_likelihood = model.score(np.flipud(train_dataset[0:K - 1, :]))\n",
    "\n",
    "    while iters < num_examples / K - 1:\n",
    "        past_likelihood = np.append(past_likelihood, model.score(np.flipud(train_dataset[iters:iters + K - 1, :])))\n",
    "        iters = iters + 1\n",
    "    likelihood_diff_idx = np.argmin(np.absolute(past_likelihood - curr_likelihood))\n",
    "    predicted_change = train_dataset[likelihood_diff_idx,:] - train_dataset[likelihood_diff_idx + 1,:]\n",
    "    predicted_stock_data = np.vstack((predicted_stock_data, dataset[idx + 1,:] + predicted_change))\n",
    "\n",
    "mape = calc_mape(predicted_stock_data, np.flipud(dataset[range(100),:]))\n",
    "mape_computed.append(mape)\n",
    "print('MAPE for close, open, high and Low bitcoin prices are as follows : {} '.format(mape))\n",
    "\n",
    "\n",
    "if PLOT_TYPE:\n",
    "    hdl_p = plt.plot(range(100), predicted_stock_data);\n",
    "    plt.title('Predicted bitcoin prices')\n",
    "    plt.legend(iter(hdl_p), ('Close','Open','High','Low'))\n",
    "    plt.xlabel('Time steps')\n",
    "    plt.ylabel('Price')\n",
    "    plt.figure()\n",
    "    hdl_a = plt.plot(range(100),np.flipud(dataset[range(100),:]))\n",
    "    plt.title('Actual bitcoin prices')\n",
    "    plt.legend(iter(hdl_p), ('Close','Open','High','Low'))\n",
    "    plt.xlabel('Time steps')\n",
    "    plt.ylabel('Price')\n",
    "else:\n",
    "    for i in range(4):\n",
    "        plt.figure()\n",
    "        plt.plot(range(100), predicted_stock_data[:,i],'k-', label = 'Predicted '+labels[i]+' price');\n",
    "        plt.plot(range(100),np.flipud(dataset[range(100),i]),'r--', label = 'Actual '+labels[i]+' price')\n",
    "        plt.xlabel('Time steps')\n",
    "        plt.ylabel('Price')\n",
    "        plt.title(labels[i]+' price'+ ' for '+\"Bitcoin\")\n",
    "        plt.grid(True)\n",
    "        plt.legend(loc = 'upper left')        \n",
    "if PLOT_SHOW:\n",
    "    plt.show(block=False)"
   ]
  },
  {
   "cell_type": "code",
   "execution_count": 22,
   "id": "246276f7",
   "metadata": {},
   "outputs": [
    {
     "data": {
      "text/plain": [
       "[array([0.06897584, 0.06024187, 0.05179295, 0.06398351])]"
      ]
     },
     "execution_count": 22,
     "metadata": {},
     "output_type": "execute_result"
    }
   ],
   "source": [
    "mape_computed"
   ]
  },
  {
   "cell_type": "code",
   "execution_count": null,
   "id": "96d3032d",
   "metadata": {},
   "outputs": [],
   "source": []
  },
  {
   "cell_type": "code",
   "execution_count": null,
   "id": "fdc30003",
   "metadata": {},
   "outputs": [],
   "source": []
  },
  {
   "cell_type": "code",
   "execution_count": null,
   "id": "68d10f39",
   "metadata": {},
   "outputs": [],
   "source": []
  }
 ],
 "metadata": {
  "kernelspec": {
   "display_name": "Python 3 (ipykernel)",
   "language": "python",
   "name": "python3"
  },
  "language_info": {
   "codemirror_mode": {
    "name": "ipython",
    "version": 3
   },
   "file_extension": ".py",
   "mimetype": "text/x-python",
   "name": "python",
   "nbconvert_exporter": "python",
   "pygments_lexer": "ipython3",
   "version": "3.8.5"
  }
 },
 "nbformat": 4,
 "nbformat_minor": 5
}
